{
  "cells": [
    {
      "cell_type": "markdown",
      "metadata": {
        "id": "_P25UfpVZj3s"
      },
      "source": [
        "### 1.installing needed packages and giving access to the google drive \n",
        "In order to run the code we need some libraries and packages; the most important package here is MNE. We will use MNE to import data, drop channels, cut data, visualize data, and so on. By giving access to our google drive we can get access to our recordings, python functions, etc. "
      ]
    },
    {
      "cell_type": "code",
      "execution_count": null,
      "metadata": {
        "id": "hXhv2LD1ZjIc"
      },
      "outputs": [],
      "source": [
        "# installing packages\n",
        "%pip install mne\n",
        "import joblib\n",
        "import matplotlib\n",
        "import numpy as np\n",
        "import scipy\n",
        "import mne\n",
        "%pip install pyEDFlib\n",
        "from pyedflib import highlevel"
      ]
    },
    {
      "cell_type": "code",
      "execution_count": null,
      "metadata": {
        "id": "NZ4tXDNHcXob"
      },
      "outputs": [],
      "source": [
        "from google.colab import drive \n",
        "drive.mount('/gdrive')\n",
        "%cd /gdrive/MyDrive/\n",
        "%ls"
      ]
    },
    {
      "cell_type": "markdown",
      "metadata": {
        "id": "qx3Ma3Fjs3uO"
      },
      "source": [
        "### 2.import data"
      ]
    },
    {
      "cell_type": "markdown",
      "metadata": {
        "id": "gvc_ZfIqkDRb"
      },
      "source": [
        "**2.1.Import data as EDF format**\n",
        "\n",
        " The function to import .edf data to MNE is **[mne.io.read_raw_edf](https://mne.tools/stable/generated/mne.io.read_raw_edf.html)**. I write\"preload=True\" in order to have access to it later on."
      ]
    },
    {
      "cell_type": "code",
      "execution_count": null,
      "metadata": {
        "id": "rUktDNSkjd_t"
      },
      "outputs": [],
      "source": [
        "data = mne.io.read_raw_edf('record_name.edf',preload=True)"
      ]
    },
    {
      "cell_type": "markdown",
      "metadata": {
        "id": "5CgBwU0XkZul"
      },
      "source": [
        "**2.2.import data as fdt or set**\n",
        "when we use eeglab( in matlab) to edit our data, the data will be saved as fdt or set. with [mne.io.read_raw_eeglab](https://mne.tools/stable/generated/mne.io.read_raw_eeglab.html) function we can import that kind of data into MNE (python)"
      ]
    },
    {
      "cell_type": "code",
      "execution_count": null,
      "metadata": {
        "id": "snVRyVtflBLS"
      },
      "outputs": [],
      "source": [
        "data =mne.io.read_raw_eeglab('record_name.set',preload= True)"
      ]
    },
    {
      "cell_type": "markdown",
      "metadata": {
        "id": "_9MsbA97sgRH"
      },
      "source": [
        "**2.3.importing data as fif** \n",
        "\n",
        "fif is the format that MNE saves the data. the function is [mne.io.read_raw_fif](https://mne.tools/stable/generated/mne.io.read_raw_fif.html)"
      ]
    },
    {
      "cell_type": "code",
      "execution_count": null,
      "metadata": {
        "id": "tlfAhEJZnDWn"
      },
      "outputs": [],
      "source": [
        "data = mne.io.read_raw_fif('record_name.fif')"
      ]
    },
    {
      "cell_type": "markdown",
      "metadata": {
        "id": "AeBygr2hhTPx"
      },
      "source": [
        "**2.4. import data as h5 file to mne python**\n",
        "\n",
        "I accessed data using h5py and then put all channels signal in one matrix where the shape of it is (number-of-channels, samples). Then I create my data information and import data into MNE. "
      ]
    },
    {
      "cell_type": "code",
      "execution_count": null,
      "metadata": {
        "id": "T-veE2TaMOnN"
      },
      "outputs": [],
      "source": [
        "import h5py\n",
        "import numpy as np\n",
        "# note that in some of dreem's recording instead of 'Channel1' it is 'eeg1' \n",
        "# Open the HDF5 file\n",
        "with h5py.File('record_name.h5', 'r') as hf:\n",
        "      f7_o1 = hf['eeg1']['raw'][:]\n",
        "    f8_o2 = hf['eeg2']['raw'][:]\n",
        "    fp1_f8 = hf['eeg3']['raw'][:]\n",
        "    f8_f7 = hf['eeg4']['raw'][:]\n",
        "    fp1_o1 = hf['eeg5']['raw'][:]\n",
        "    fp1_o2 = hf['eeg6']['raw'][:]\n",
        "    fp1_f7 = hf['eeg7']['raw'][:]\n",
        "data = np.vstack([f7_o1, f8_o2, fp1_f8, f8_f7, fp1_o1, fp1_o2, fp1_f7])\n",
        "# Create an MNE info object\n",
        "ch_names = ['F7_O1', 'F8_O2', 'Fp1_F8', 'F8_F7', 'Fp1_O1', 'Fp1_O2', 'Fp1_F7']\n",
        "ch_types = ['eeg'] * len(ch_names)\n",
        "sfreq = 250\n",
        "info = mne.create_info(ch_names=ch_names, ch_types=ch_types, sfreq=sfreq)\n",
        " #Create an MNE RawArray object for the concatenated data\n",
        "raw = mne.io.RawArray(data, info)"
      ]
    },
    {
      "cell_type": "markdown",
      "metadata": {
        "id": "dnkN-5bolrb0"
      },
      "source": [
        "###3.Filtering the data"
      ]
    },
    {
      "cell_type": "code",
      "execution_count": null,
      "metadata": {
        "id": "j0sXh__ilpXg"
      },
      "outputs": [],
      "source": [
        "# Filter settings\n",
        "low_cut = 0.3\n",
        "hi_cut  = 35\n",
        "#function\n",
        "dataFilter = raw.filter(low_cut,hi_cut)\n",
        "dataFilter.save('dataFilter.fif',overwrite=True)"
      ]
    },
    {
      "cell_type": "code",
      "execution_count": null,
      "metadata": {
        "id": "JKlTkz59S7XG"
      },
      "outputs": [],
      "source": [
        "# Apply a notch filter to remove 60 Hz noise\n",
        "raw.notch_filter(freqs=60.0)"
      ]
    },
    {
      "cell_type": "markdown",
      "metadata": {
        "id": "z5oD6606nXbO"
      },
      "source": [
        "####3.1Saving the Filtered data\n",
        "\n",
        "Note that the MNE save data in fif format. This step is optional. "
      ]
    },
    {
      "cell_type": "code",
      "execution_count": null,
      "metadata": {
        "id": "37XF2DM4fslH"
      },
      "outputs": [],
      "source": [
        "dataFilter.save('dataFilter.fif',overwrite=True)"
      ]
    },
    {
      "cell_type": "markdown",
      "metadata": {
        "id": "OvdZEwaYuNGH"
      },
      "source": [
        "### 4.Croping the data from time 1 to time 2\n",
        "\n",
        "Here we sellect the time priod of data that we are interested; note that we can do it in the next section where we are sellecting the channel"
      ]
    },
    {
      "cell_type": "code",
      "execution_count": null,
      "metadata": {
        "id": "ZAgbAnaZ5rmi"
      },
      "outputs": [],
      "source": [
        "t1= 0\n",
        "t2= 3600\n",
        "dataFilterCroped= dataFilter.crop(tmin= t1 ,tmax=t2)"
      ]
    },
    {
      "cell_type": "markdown",
      "metadata": {
        "id": "HjIIwiBlU3Az"
      },
      "source": [
        "### 5.Add annotation"
      ]
    },
    {
      "cell_type": "code",
      "execution_count": null,
      "metadata": {
        "id": "xQ0HM1duU2Hl"
      },
      "outputs": [],
      "source": [
        "# extract data from hypnogram.txt file\n",
        "# Open the input file and read its contents\n",
        "with open('hypnogram.txt', 'r') as input_file:\n",
        "    input_data = input_file.readlines()\n",
        "# Remove all columns except the first one and apply the mapping to the values\n",
        "mapping = {'SLEEP-S0': 'wake', 'SLEEP-REM': 'Rem', 'SLEEP-S1': 'N1', 'SLEEP-S2': 'N2', 'SLEEP-3':'N3', 'SLEEP-MT': 'NA'}\n",
        "output_data = [mapping.get(line.strip().split()[0], line.strip().split()[0]) for line in input_data]\n",
        "# Create  three variables from hypnogram data for annotation\n",
        "onset = [i * 30 for i in range(len(output_data))]\n",
        "duration = [30] * len(output_data)\n",
        "description = output_data\n",
        "# Write the result to the output file\n",
        "with open('output.txt', 'w') as output_file:\n",
        "    for onset_value, duration_value, description_value in zip(onset, duration, description):\n",
        "        output_file.write(f'{onset_value} {duration_value} {description_value}\\n')\n",
        "# Create a copy of the raw object and add the annotations to the copy\n",
        "raw_with_annot = raw.copy()\n",
        "annot = mne.Annotations(onset=onset, duration=duration, description=description)\n",
        "raw_with_annot.set_annotations(annot)\n",
        "# Export to a new EDF file\n",
        "mne.export.export_raw('annotated_data.edf', raw, fmt='auto', overwrite=True)\n",
        "'''after checking many things I believe the problem is when I export the data, before exporting and after annotation \n",
        "the data has both signals and annotation but after exporting I lose the signals'''"
      ]
    },
    {
      "cell_type": "markdown",
      "metadata": {
        "id": "_Gtsr7BOYOrn"
      },
      "source": [
        "### 6.Creat hypnogram graph"
      ]
    },
    {
      "cell_type": "code",
      "execution_count": null,
      "metadata": {
        "id": "9aGTPGXhVk89"
      },
      "outputs": [],
      "source": [
        "import pandas as pd\n",
        "import matplotlib.pyplot as plt\n",
        "import numpy as np\n",
        "\n",
        "# Read data from file\n",
        "data = pd.read_table('hypnogram.txt', header=None)\n",
        "oldvalues = ['SLEEP-S0', 'SLEEP-REM', 'SLEEP-S1', 'SLEEP-S2', 'SLEEP-S3', 'SLEEP-MT']\n",
        "newvalues = ['5', '4', '3', '2', '1', '0']\n",
        "data[0] = data[0].replace(oldvalues, newvalues)\n",
        "hypno = data[0]\n",
        "stage_data = np.repeat(hypno, 30)\n",
        "fs = 0.0333  # Sampling rate in Hz\n",
        "t = np.arange(len(hypno))/fs\n",
        "stage_data_num = stage_data.astype(int)\n",
        "plt.stairs(stage_data_num, linewidth=2)\n",
        "# Set the y-axis limits to show the different sleep stages\n",
        "plt.ylim([-0.5, 6.5])\n",
        "# Label the y-axis with the different sleep stages\n",
        "plt.yticks([0, 1, 2, 3, 4, 5], ['NA', 'N3', 'N2', 'N1', 'rem', 'wake'])\n",
        "plt.ylabel('Sleep stage')\n",
        "# Label the x-axis with the time\n",
        "plt.xlabel('Time (minutes)')\n",
        "plt.show()"
      ]
    },
    {
      "cell_type": "markdown",
      "metadata": {
        "id": "7vq_I5CQv1uo"
      },
      "source": [
        "### 7.extract the time points for each stage periods"
      ]
    },
    {
      "cell_type": "code",
      "execution_count": null,
      "metadata": {
        "id": "65VoJ7YGetkg"
      },
      "outputs": [],
      "source": [
        "import pandas as pd\n",
        "print('''\n",
        "0= wake\n",
        "1=N1\n",
        "2=N2\n",
        "3=N3\n",
        "4=REM\n",
        "''')\n",
        "# Read data from file\n",
        "data = pd.read_csv('hypnogram.txt', header=None, sep='\\t')\n",
        "\n",
        "# Define mapping of old values to new values\n",
        "oldvalues = ['SLEEP-S0', 'SLEEP-REM', 'SLEEP-S1', 'SLEEP-S2', 'SLEEP-S3', 'SLEEP-MT']\n",
        "newvalues = ['0', '4', '1', '2', '3', '5']\n",
        "\n",
        "# Replace old values with new values\n",
        "data[0] = data[0].replace(oldvalues, newvalues)\n",
        "\n",
        "# Convert the data type of the first column to integer\n",
        "data[0] = data[0].astype(int)\n",
        "\n",
        "# Get the sampling frequency\n",
        "fs = 1/30  # 30 seconds per sample\n",
        "\n",
        "# Loop over each sleep stage and extract the periods\n",
        "for stage in range(6):\n",
        "    # Get the indices where the sleep stage is equal to the current stage\n",
        "    indices = data.index[data[0] == stage]\n",
        "    \n",
        "    # If there are no periods for this stage, continue to the next stage\n",
        "    if len(indices) == 0:\n",
        "        continue\n",
        "    \n",
        "    # Initialize the start and end times of the first period\n",
        "    start_time = indices[0] * 30\n",
        "    end_time = start_time\n",
        "    \n",
        "    # Loop over the remaining indices and extract the periods\n",
        "    for i in range(1, len(indices)):\n",
        "        # If the current index is consecutive to the previous index, update the end time\n",
        "        if indices[i] == indices[i-1]+1:\n",
        "            end_time = indices[i] * 30\n",
        "        # Otherwise, print the start and end times of the previous period and update the start time\n",
        "        else:\n",
        "            print(f\"Sleep stage {stage} from {start_time:.1f}s to {end_time:.1f}s\")\n",
        "            start_time = indices[i] * 30\n",
        "            end_time = start_time\n",
        "            \n",
        "    # Print the start and end times of the last period\n",
        "    print(f\"Sleep stage {stage} from {start_time:.1f}s to {end_time:.1f}s\")\n"
      ]
    },
    {
      "cell_type": "markdown",
      "metadata": {
        "id": "x3-2dx9fxn8Q"
      },
      "source": [
        "### 8.Get data for each channel as a numpy array in 1D"
      ]
    },
    {
      "cell_type": "markdown",
      "metadata": {
        "id": "MlSwJavPHtmY"
      },
      "source": [
        "**extraxting channels using MNE**\n",
        "t1 equals to start point and t2 equals to end point "
      ]
    },
    {
      "cell_type": "code",
      "execution_count": null,
      "metadata": {
        "id": "ItqFuTp4hLPF"
      },
      "outputs": [],
      "source": [
        "# t1=0\n",
        "#t2= 3600\n",
        "# you can delete tmin and tmax to get the data for whole recording\n",
        "#channelName_data = raw.get_data(picks= 0, tmin= t1, tmax=t2)\n",
        "F7_O1_data=dataFilter.get_data(picks=0, tmin= t1, tmax=t2)\n",
        "F8_O2_data=dataFilter.get_data(picks=1, tmin= t1, tmax=t2)\n",
        "Fp1_F8_data= dataFilter.get_data(picks=2, tmin= t1, tmax=t2)\n",
        "F8_F7_data= dataFilter.get_data(picks=3, tmin= t1, tmax=t2)\n",
        "Fp1_O1_data= dataFilter.get_data(picks=4, tmin= t1, tmax=t2)\n",
        "Fp1_O2_data= dataFilter.get_data(picks=5, tmin= t1, tmax=t2)\n",
        "Fp1_F7_data= dataFilter.get_data(picks=6, tmin= t1, tmax=t2)"
      ]
    },
    {
      "cell_type": "markdown",
      "metadata": {
        "id": "qUimjCN-zYCc"
      },
      "source": [
        "**extracting each channel for edf data with out using MNE**"
      ]
    },
    {
      "cell_type": "code",
      "execution_count": null,
      "metadata": {
        "id": "28b2Ushhr872"
      },
      "outputs": [],
      "source": [
        "\n",
        "#signals, signal_headers, header = highlevel.read_edf('dreem95.edf')  # reads in the signal data, header for each signal, and the overall edf header from dreem95.edf\n",
        "F7_O1_data = signals[0]  # in this edf the first signal is data from the F7_O1 channel (look at signal_headers to determine the label for each signal in your edf)\n",
        "fs = signal_headers[0]['sample_rate']  # Extract the sampling frequency for the F7_O1 signal\n",
        "F8_O2_data = signals[1] \n",
        "Fp1_F8_data = signals[2] \n",
        "F8_F7_data = signals[3]\n",
        "Fp1_O1_data = signals[4]  \n",
        "Fp1_O2_data = signals[5]  \n",
        "Fp1_F7_data = signals[6]  \n"
      ]
    },
    {
      "cell_type": "markdown",
      "metadata": {
        "id": "i288ZjBcIQwD"
      },
      "source": [
        "**Checking the shape**:\n",
        "the shape of your array should be (1,number of samples), if it is (number of samples,) use transpose function to change the shape. "
      ]
    },
    {
      "cell_type": "code",
      "execution_count": null,
      "metadata": {
        "id": "FRyWiVrOGXFp"
      },
      "outputs": [],
      "source": [
        "print(channel_data.shape)# to see the shape \n",
        "transposed_data = np.transpose(channel_data)# to change the shape"
      ]
    }
  ],
  "metadata": {
    "colab": {
      "provenance": []
    },
    "kernelspec": {
      "display_name": "Python 3",
      "name": "python3"
    },
    "language_info": {
      "name": "python"
    }
  },
  "nbformat": 4,
  "nbformat_minor": 0
}